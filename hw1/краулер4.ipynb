{
  "nbformat": 4,
  "nbformat_minor": 0,
  "metadata": {
    "colab": {
      "provenance": []
    },
    "kernelspec": {
      "name": "python3",
      "display_name": "Python 3"
    },
    "language_info": {
      "name": "python"
    }
  },
  "cells": [
    {
      "cell_type": "markdown",
      "source": [
        "Так как на предыдущем сайте только одна страница с плохими отзывами, которой нам не хватило, мы доберем нехватающие плохие отзывы на кинопоске. Однако, чтобы компенсировать разницу в длине отзывов (на предыдущем сайте отзывы больше), возьмем еще 25 отзывов."
      ],
      "metadata": {
        "id": "NFlvgPaZ-2To"
      }
    },
    {
      "cell_type": "code",
      "execution_count": 1,
      "metadata": {
        "colab": {
          "base_uri": "https://localhost:8080/"
        },
        "id": "8_yEgSul-17k",
        "outputId": "c91a8428-96b4-40f2-b3d4-44cbe809dcc2"
      },
      "outputs": [
        {
          "output_type": "stream",
          "name": "stdout",
          "text": [
            "Collecting fake_useragent\n",
            "  Downloading fake_useragent-1.2.1-py3-none-any.whl (14 kB)\n",
            "Installing collected packages: fake_useragent\n",
            "Successfully installed fake_useragent-1.2.1\n"
          ]
        }
      ],
      "source": [
        "import requests\n",
        "from pprint import pprint\n",
        "!pip3 install fake_useragent\n",
        "from fake_useragent import UserAgent\n",
        "from bs4 import BeautifulSoup\n"
      ]
    },
    {
      "cell_type": "code",
      "source": [
        "session = requests.session()\n",
        "good_reviews = ''\n",
        "ua = UserAgent()"
      ],
      "metadata": {
        "id": "lav5gNHU-5h0"
      },
      "execution_count": 2,
      "outputs": []
    },
    {
      "cell_type": "code",
      "source": [
        "url = f'https://www.kinopoisk.ru/film/464963/reviews/ord/rnd/status/bad/perpage/25/'\n",
        "known_proxy_ip = '87.241.50.34:8080'\n",
        "proxy = {'http': known_proxy_ip, 'https': known_proxy_ip}\n",
        "req = session.get(url, headers={'User-Agent': ua.random})\n",
        "page = req.text\n",
        "soup = BeautifulSoup(page, 'html.parser')"
      ],
      "metadata": {
        "id": "1ix87JtE-8lC"
      },
      "execution_count": 3,
      "outputs": []
    },
    {
      "cell_type": "code",
      "source": [
        "bad_reviews = []\n",
        "print(len(soup.find_all('span', {\"class\":\"_reachbanner_\"})))\n",
        "for rewiew in soup.find_all('span', {\"class\":\"_reachbanner_\"}):\n",
        "    bad_reviews.append(rewiew.text)\n",
        "\n",
        "with open(\"bad2.txt\", \"w\") as file:\n",
        "    file.write(\" \".join(bad_reviews))\n"
      ],
      "metadata": {
        "colab": {
          "base_uri": "https://localhost:8080/"
        },
        "id": "Ya5-LsoQ--0t",
        "outputId": "039f9a24-5d3e-40af-cbd5-8893a24314fe"
      },
      "execution_count": 4,
      "outputs": [
        {
          "output_type": "stream",
          "name": "stdout",
          "text": [
            "25\n"
          ]
        }
      ]
    }
  ]
}