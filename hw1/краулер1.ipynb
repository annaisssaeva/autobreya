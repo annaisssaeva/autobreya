{
  "nbformat": 4,
  "nbformat_minor": 0,
  "metadata": {
    "colab": {
      "provenance": []
    },
    "kernelspec": {
      "name": "python3",
      "display_name": "Python 3"
    },
    "language_info": {
      "name": "python"
    }
  },
  "cells": [
    {
      "cell_type": "code",
      "execution_count": 1,
      "metadata": {
        "colab": {
          "base_uri": "https://localhost:8080/"
        },
        "id": "ll9Ok6Gh3GZD",
        "outputId": "23a489fd-cfe3-4848-dbd7-5ae991f5bee6"
      },
      "outputs": [
        {
          "output_type": "stream",
          "name": "stdout",
          "text": [
            "Collecting fake_useragent\n",
            "  Downloading fake_useragent-1.2.1-py3-none-any.whl (14 kB)\n",
            "Installing collected packages: fake_useragent\n",
            "Successfully installed fake_useragent-1.2.1\n"
          ]
        }
      ],
      "source": [
        "import requests\n",
        "from pprint import pprint\n",
        "!pip3 install fake_useragent\n",
        "from fake_useragent import UserAgent\n",
        "from bs4 import BeautifulSoup\n",
        "\n",
        "session = requests.session()\n",
        "good_reviews = ''\n",
        "ua = UserAgent()"
      ]
    },
    {
      "cell_type": "markdown",
      "source": [
        "Тексты отзывов мы кладем в файл, а также в конце выведем количество текстов, которые мы сохранили."
      ],
      "metadata": {
        "id": "c4YGCwj23LbV"
      }
    },
    {
      "cell_type": "code",
      "source": [
        "url = f'https://irecommend.ru/content/igra-prestolov-game-thrones?ft[r]=1'\n",
        "req = session.get(url, headers={'User-Agent': ua.random})\n",
        "page = req.text\n",
        "soup = BeautifulSoup(page, 'html.parser')\n",
        "\n",
        "good_reviews = ''\n",
        "n_odd = soup.find_all('ul', {\"class\":\"list-comments\"})[0].find_all('li', {'class':\"item\"})\n",
        "count = 0\n",
        "for article in n_odd:\n",
        "    link = n_odd[n_odd.index(article)].find_all(\"a\", {'class': 'more'})[0].attrs['href']\n",
        "    new_link = \"https://irecommend.ru\"+link\n",
        "    ua = UserAgent()\n",
        "    req3 = session.get(new_link, headers={'User-Agent': ua.random})\n",
        "    page3 = req3.text\n",
        "    soup3 = BeautifulSoup(page3, 'html.parser')\n",
        "    raw_text = soup3.find_all('div', {'class': 'description hasinlineimage'})\n",
        "    if len(raw_text) >= 1:\n",
        "        count += 1\n",
        "        raw_text1 = raw_text[0].text\n",
        "        good_reviews += raw_text1\n",
        "\n",
        "with open(\"good1.txt\", \"w\") as file:\n",
        "    file.write(good_reviews)\n",
        "print(count)\n"
      ],
      "metadata": {
        "colab": {
          "base_uri": "https://localhost:8080/"
        },
        "id": "YBJlgpSi3MLM",
        "outputId": "9c04bd89-1d55-4a06-b0c2-06880a30b55c"
      },
      "execution_count": 2,
      "outputs": [
        {
          "output_type": "stream",
          "name": "stdout",
          "text": [
            "19\n"
          ]
        }
      ]
    }
  ]
}